{
  "nbformat": 4,
  "nbformat_minor": 0,
  "metadata": {
    "colab": {
      "provenance": [],
      "authorship_tag": "ABX9TyPulRr0X4eiXTlADvNT9Xc4",
      "include_colab_link": true
    },
    "kernelspec": {
      "name": "python3",
      "display_name": "Python 3"
    },
    "language_info": {
      "name": "python"
    },
    "accelerator": "GPU",
    "gpuClass": "standard"
  },
  "cells": [
    {
      "cell_type": "markdown",
      "metadata": {
        "id": "view-in-github",
        "colab_type": "text"
      },
      "source": [
        "<a href=\"https://colab.research.google.com/github/mangalametta/Colab-Whisper-YT/blob/main/YTSTT.ipynb\" target=\"_parent\"><img src=\"https://colab.research.google.com/assets/colab-badge.svg\" alt=\"Open In Colab\"/></a>"
      ]
    },
    {
      "cell_type": "markdown",
      "source": [
        "# Create by Honk 3/2/2023\n"
      ],
      "metadata": {
        "id": "c469e0nlof5y"
      }
    },
    {
      "cell_type": "code",
      "execution_count": 1,
      "metadata": {
        "colab": {
          "base_uri": "https://localhost:8080/"
        },
        "id": "tS1b7oF5oc71",
        "outputId": "91eb22ee-e14b-48f7-ed2e-cea23096b02c"
      },
      "outputs": [
        {
          "output_type": "stream",
          "name": "stdout",
          "text": [
            "Looking in indexes: https://pypi.org/simple, https://us-python.pkg.dev/colab-wheels/public/simple/\n",
            "Collecting pytube\n",
            "  Downloading pytube-12.1.2-py3-none-any.whl (57 kB)\n",
            "\u001b[2K     \u001b[90m━━━━━━━━━━━━━━━━━━━━━━━━━━━━━━━━━━━━━━━━\u001b[0m \u001b[32m57.0/57.0 KB\u001b[0m \u001b[31m2.8 MB/s\u001b[0m eta \u001b[36m0:00:00\u001b[0m\n",
            "\u001b[?25hInstalling collected packages: pytube\n",
            "Successfully installed pytube-12.1.2\n"
          ]
        }
      ],
      "source": [
        "!pip install pytube"
      ]
    },
    {
      "cell_type": "code",
      "source": [
        "pip install -U openai-whisper"
      ],
      "metadata": {
        "colab": {
          "base_uri": "https://localhost:8080/"
        },
        "id": "q3aZkJADoqie",
        "outputId": "ce3578c0-930e-4959-b56f-95e13d5c29a6"
      },
      "execution_count": 2,
      "outputs": [
        {
          "output_type": "stream",
          "name": "stdout",
          "text": [
            "Looking in indexes: https://pypi.org/simple, https://us-python.pkg.dev/colab-wheels/public/simple/\n",
            "Collecting openai-whisper\n",
            "  Downloading openai-whisper-20230124.tar.gz (1.2 MB)\n",
            "\u001b[2K     \u001b[90m━━━━━━━━━━━━━━━━━━━━━━━━━━━━━━━━━━━━━━━━\u001b[0m \u001b[32m1.2/1.2 MB\u001b[0m \u001b[31m47.2 MB/s\u001b[0m eta \u001b[36m0:00:00\u001b[0m\n",
            "\u001b[?25h  Preparing metadata (setup.py) ... \u001b[?25l\u001b[?25hdone\n",
            "Requirement already satisfied: numpy in /usr/local/lib/python3.8/dist-packages (from openai-whisper) (1.22.4)\n",
            "Requirement already satisfied: torch in /usr/local/lib/python3.8/dist-packages (from openai-whisper) (1.13.1+cu116)\n",
            "Requirement already satisfied: tqdm in /usr/local/lib/python3.8/dist-packages (from openai-whisper) (4.64.1)\n",
            "Requirement already satisfied: more-itertools in /usr/local/lib/python3.8/dist-packages (from openai-whisper) (9.0.0)\n",
            "Collecting transformers>=4.19.0\n",
            "  Downloading transformers-4.26.1-py3-none-any.whl (6.3 MB)\n",
            "\u001b[2K     \u001b[90m━━━━━━━━━━━━━━━━━━━━━━━━━━━━━━━━━━━━━━━━\u001b[0m \u001b[32m6.3/6.3 MB\u001b[0m \u001b[31m75.9 MB/s\u001b[0m eta \u001b[36m0:00:00\u001b[0m\n",
            "\u001b[?25hCollecting ffmpeg-python==0.2.0\n",
            "  Downloading ffmpeg_python-0.2.0-py3-none-any.whl (25 kB)\n",
            "Requirement already satisfied: future in /usr/local/lib/python3.8/dist-packages (from ffmpeg-python==0.2.0->openai-whisper) (0.16.0)\n",
            "Requirement already satisfied: filelock in /usr/local/lib/python3.8/dist-packages (from transformers>=4.19.0->openai-whisper) (3.9.0)\n",
            "Collecting tokenizers!=0.11.3,<0.14,>=0.11.1\n",
            "  Downloading tokenizers-0.13.2-cp38-cp38-manylinux_2_17_x86_64.manylinux2014_x86_64.whl (7.6 MB)\n",
            "\u001b[2K     \u001b[90m━━━━━━━━━━━━━━━━━━━━━━━━━━━━━━━━━━━━━━━━\u001b[0m \u001b[32m7.6/7.6 MB\u001b[0m \u001b[31m100.0 MB/s\u001b[0m eta \u001b[36m0:00:00\u001b[0m\n",
            "\u001b[?25hRequirement already satisfied: packaging>=20.0 in /usr/local/lib/python3.8/dist-packages (from transformers>=4.19.0->openai-whisper) (23.0)\n",
            "Collecting huggingface-hub<1.0,>=0.11.0\n",
            "  Downloading huggingface_hub-0.12.1-py3-none-any.whl (190 kB)\n",
            "\u001b[2K     \u001b[90m━━━━━━━━━━━━━━━━━━━━━━━━━━━━━━━━━━━━━━\u001b[0m \u001b[32m190.3/190.3 KB\u001b[0m \u001b[31m25.7 MB/s\u001b[0m eta \u001b[36m0:00:00\u001b[0m\n",
            "\u001b[?25hRequirement already satisfied: regex!=2019.12.17 in /usr/local/lib/python3.8/dist-packages (from transformers>=4.19.0->openai-whisper) (2022.6.2)\n",
            "Requirement already satisfied: pyyaml>=5.1 in /usr/local/lib/python3.8/dist-packages (from transformers>=4.19.0->openai-whisper) (6.0)\n",
            "Requirement already satisfied: requests in /usr/local/lib/python3.8/dist-packages (from transformers>=4.19.0->openai-whisper) (2.25.1)\n",
            "Requirement already satisfied: typing-extensions in /usr/local/lib/python3.8/dist-packages (from torch->openai-whisper) (4.5.0)\n",
            "Requirement already satisfied: urllib3<1.27,>=1.21.1 in /usr/local/lib/python3.8/dist-packages (from requests->transformers>=4.19.0->openai-whisper) (1.26.14)\n",
            "Requirement already satisfied: certifi>=2017.4.17 in /usr/local/lib/python3.8/dist-packages (from requests->transformers>=4.19.0->openai-whisper) (2022.12.7)\n",
            "Requirement already satisfied: chardet<5,>=3.0.2 in /usr/local/lib/python3.8/dist-packages (from requests->transformers>=4.19.0->openai-whisper) (4.0.0)\n",
            "Requirement already satisfied: idna<3,>=2.5 in /usr/local/lib/python3.8/dist-packages (from requests->transformers>=4.19.0->openai-whisper) (2.10)\n",
            "Building wheels for collected packages: openai-whisper\n",
            "  Building wheel for openai-whisper (setup.py) ... \u001b[?25l\u001b[?25hdone\n",
            "  Created wheel for openai-whisper: filename=openai_whisper-20230124-py3-none-any.whl size=1179329 sha256=c9094d95fc132e217d9e501107b778b5b540eb7a67d59ca0319152a8ad565d4c\n",
            "  Stored in directory: /root/.cache/pip/wheels/48/c2/dd/8639c7cda1e20412e499ab65e5003d8863ef8622792ea26446\n",
            "Successfully built openai-whisper\n",
            "Installing collected packages: tokenizers, ffmpeg-python, huggingface-hub, transformers, openai-whisper\n",
            "Successfully installed ffmpeg-python-0.2.0 huggingface-hub-0.12.1 openai-whisper-20230124 tokenizers-0.13.2 transformers-4.26.1\n"
          ]
        }
      ]
    },
    {
      "cell_type": "code",
      "source": [
        "yt_url = \"https://www.youtube.com/watch?v=oTWM45hWUEk\""
      ],
      "metadata": {
        "id": "JzuyidJjpAV_"
      },
      "execution_count": 3,
      "outputs": []
    },
    {
      "cell_type": "code",
      "source": [
        "from pytube import YouTube"
      ],
      "metadata": {
        "id": "K0T8ucEbpZI5"
      },
      "execution_count": 4,
      "outputs": []
    },
    {
      "cell_type": "code",
      "source": [
        "yt = YouTube(yt_url)\n",
        "yt.streams.filter().get_audio_only().download(filename='test.mp3')"
      ],
      "metadata": {
        "colab": {
          "base_uri": "https://localhost:8080/",
          "height": 35
        },
        "id": "86fsRZSMplJc",
        "outputId": "639e9593-40ea-4875-c544-8a8383558699"
      },
      "execution_count": 5,
      "outputs": [
        {
          "output_type": "execute_result",
          "data": {
            "text/plain": [
              "'/content/test.mp3'"
            ],
            "application/vnd.google.colaboratory.intrinsic+json": {
              "type": "string"
            }
          },
          "metadata": {},
          "execution_count": 5
        }
      ]
    },
    {
      "cell_type": "code",
      "source": [
        "!whisper test.mp3 --device cuda --model large --language Chinese --initial_prompt \"以下為繁體中文逐字稿\""
      ],
      "metadata": {
        "colab": {
          "base_uri": "https://localhost:8080/"
        },
        "id": "ZLOsPSx6pq9s",
        "outputId": "74893cac-b112-487d-cb92-1f9430c39c86"
      },
      "execution_count": 6,
      "outputs": [
        {
          "output_type": "stream",
          "name": "stdout",
          "text": [
            "2023-03-02 09:55:02.621449: I tensorflow/core/platform/cpu_feature_guard.cc:193] This TensorFlow binary is optimized with oneAPI Deep Neural Network Library (oneDNN) to use the following CPU instructions in performance-critical operations:  AVX2 FMA\n",
            "To enable them in other operations, rebuild TensorFlow with the appropriate compiler flags.\n",
            "2023-03-02 09:55:03.689276: W tensorflow/compiler/xla/stream_executor/platform/default/dso_loader.cc:64] Could not load dynamic library 'libnvinfer.so.7'; dlerror: libnvinfer.so.7: cannot open shared object file: No such file or directory; LD_LIBRARY_PATH: /usr/lib64-nvidia\n",
            "2023-03-02 09:55:03.689417: W tensorflow/compiler/xla/stream_executor/platform/default/dso_loader.cc:64] Could not load dynamic library 'libnvinfer_plugin.so.7'; dlerror: libnvinfer_plugin.so.7: cannot open shared object file: No such file or directory; LD_LIBRARY_PATH: /usr/lib64-nvidia\n",
            "2023-03-02 09:55:03.689445: W tensorflow/compiler/tf2tensorrt/utils/py_utils.cc:38] TF-TRT Warning: Cannot dlopen some TensorRT libraries. If you would like to use Nvidia GPU with TensorRT, please make sure the missing libraries mentioned above are installed properly.\n",
            "100%|█████████████████████████████████████| 2.87G/2.87G [01:14<00:00, 41.6MiB/s]\n",
            "[00:00.400 --> 00:01.900] 隨便隨便隨便隨便\n",
            "[00:02.140 --> 00:04.040] 隨便隨便我必須要講這話題\n",
            "[00:06.540 --> 00:08.100] 叫老婆下跪\n",
            "[00:08.100 --> 00:09.640] 白癡喔那個做效果的\n",
            "[00:09.640 --> 00:11.240] 你看不出來他做效果\n",
            "[00:11.860 --> 00:13.520] 你看不出來他做效果\n",
            "[00:14.960 --> 00:16.640] 你看不出來他做效果\n",
            "[00:16.960 --> 00:18.880] 幹你眼睛是殘的是不是啊\n",
            "[00:19.800 --> 00:21.560] 他媽的你覺得我真的有可能腦殘到\n",
            "[00:21.560 --> 00:24.000] 叫我的老婆給拖椅子下跪嗎\n",
            "[00:24.000 --> 00:25.440] 白癡是不是啊你\n",
            "[00:25.440 --> 00:30.560] 你這白癡是不是啊\n",
            "[00:39.280 --> 00:40.540] 效果很差\n",
            "[00:41.320 --> 00:43.360] 好啦好啦好啦好啦好啦\n",
            "[00:43.620 --> 00:45.160] 反正從小亮這個點\n",
            "[00:45.400 --> 00:46.680] 我也看清楚這個人了\n",
            "[00:46.940 --> 00:47.960] 我以後不會再做效果\n",
            "[00:48.480 --> 00:49.500] 我以後不會再做效果\n",
            "[00:50.020 --> 00:51.300] 我以後只跟認識的人做效果\n",
            "[00:52.580 --> 00:53.600] 真的很好笑\n",
            "[00:53.600 --> 00:54.880] 真的很好笑\n",
            "[00:55.400 --> 00:57.180] 我以後不會再跟認識的人做效果\n",
            "[00:57.700 --> 00:58.220] 就這麼簡單\n",
            "[00:58.720 --> 01:00.260] OKOKOK我的錯\n",
            "[01:00.780 --> 01:01.280] 好\n",
            "[01:01.540 --> 01:02.300] 都我的錯\n",
            "[01:02.300 --> 01:08.440] 我活該\n",
            "[01:21.500 --> 01:24.580] 我活該我犯賤\n",
            "[01:29.180 --> 01:31.480] 他媽的我接機制的空殘\n",
            "[01:31.480 --> 01:34.300] 一個第一次認識我的人根本沒見過本人的人\n",
            "[01:34.560 --> 01:35.840] 玩遊戲一直賊我\n",
            "[01:36.340 --> 01:37.360] 我做效果\n",
            "[01:38.640 --> 01:40.440] 他媽的還要被你們羞辱\n",
            "[01:40.960 --> 01:43.000] 幹他媽的你這雞排小啦\n",
            "[01:46.080 --> 01:47.360] 我他媽就犯賤啦\n",
            "[01:48.120 --> 01:49.140] 幹他媽的\n",
            "[01:49.140 --> 02:17.300] 我的人生就是賤啊\n",
            "[02:17.560 --> 02:18.320] 他媽的\n",
            "[02:18.320 --> 02:20.880] 你要拿到5R就直接說嘛\n",
            "[02:21.640 --> 02:23.940] 消費我一年的\n",
            "[02:24.200 --> 02:27.020] 你就直接密碼直接拿嘛\n",
            "[02:29.580 --> 02:30.860] 幹你媽的逼的\n",
            "[02:30.860 --> 02:42.640] 真是白爛\n",
            "[02:51.600 --> 02:54.920] 人家說了你不給你不會直接匯喔靠北他沒給我\n",
            "[02:55.180 --> 02:58.240] 他沒給我賬號我怎麼匯啊他沒給我賬號我怎麼匯啊\n",
            "[02:58.240 --> 03:02.600] 算了隨便了五萬五萬五萬認清一個人\n",
            "[03:03.100 --> 03:03.620] 隨便\n",
            "[03:03.620 --> 03:19.760] 好啦我要休息了受不了\n",
            "[03:34.600 --> 03:37.660] 真的五萬認清一個人\n",
            "[03:38.180 --> 03:40.220] 不是你要拿錢\n",
            "[03:40.480 --> 03:41.500] 直接跟我講\n",
            "[03:41.760 --> 03:47.140] 我不是沒有那個錢當然我一樣跟你說這個錢你不應該拿因為那個時候做效果\n",
            "[03:47.900 --> 03:49.960] 你要拿錢你就不應該消費我一年\n",
            "[03:51.500 --> 03:52.520] 這何必呢\n",
            "[03:52.520 --> 03:58.660] 他講啦\n",
            "[03:58.920 --> 04:05.060] 沒有啊他有003的那個LINE啊就直接密賬號過來就好啦\n",
            "[04:05.320 --> 04:07.120] 就匯錢啊\n",
            "[04:07.120 --> 04:18.380] 人家講給你你還不知道沒有我也要做效果的啊那你要真的要拿錢就賬號匯過來啊\n",
            "[04:24.780 --> 04:26.580] 隨便啦看清一個人啊\n",
            "[04:32.200 --> 04:35.280] 五萬貴到哭了沒有啦靠夭哩\n",
            "[04:35.280 --> 04:39.120] 不是啊真的覺得不是我剛剛已經認真問他講我說\n",
            "[04:39.380 --> 04:42.180] 我再問你一次這不是做效果我再問你一次這不是做效果\n",
            "[04:42.440 --> 04:46.280] 我講了兩次我說你到底要不要拿五萬他說要拿那我也沒辦法\n",
            "[04:46.800 --> 04:49.100] 不是我只覺得你要拿啊你就早點講\n",
            "[04:49.860 --> 04:52.940] 不是他一定也不缺那五萬你知道嗎他一定也不缺那五萬\n",
            "[04:53.460 --> 04:54.980] 他那麼年輕怎麼會缺那五萬\n",
            "[04:55.760 --> 04:57.800] 那我在這裡我就是說\n",
            "[04:58.320 --> 04:58.820] 你\n",
            "[05:00.100 --> 05:00.880] 你要\n",
            "[05:01.640 --> 05:02.420] 網路霸凌\n",
            "[05:02.420 --> 05:07.280] 這個倒不算\n",
            "[05:08.060 --> 05:10.860] 這不算網路霸凌只是我覺得他不應該拿那個錢\n",
            "[05:11.640 --> 05:12.920] 這倒不算網路霸凌\n",
            "[05:17.780 --> 05:19.060] 這個倒不算網路霸凌\n",
            "[05:19.820 --> 05:21.100] 他拿那個錢\n",
            "[05:22.140 --> 05:24.940] 當然我有答應他當然\n",
            "[05:24.940 --> 05:25.960] 不是\n",
            "[05:32.100 --> 05:33.900] 他餘里當然是OK的嘛\n",
            "[05:34.400 --> 05:35.940] 可是我們還有餘勤嘛\n",
            "[05:36.200 --> 05:36.700] 不是\n",
            "[05:36.960 --> 05:37.740] 那是一個\n",
            "[05:38.240 --> 05:39.780] 格雷納的工商案子\n",
            "[05:40.800 --> 05:42.340] 那個表演賽\n",
            "[05:44.380 --> 05:44.900] 然後\n",
            "[05:45.920 --> 05:47.980] 那是一個格雷納的工商的表演賽\n",
            "[05:48.220 --> 05:49.000] 然後\n",
            "[05:49.000 --> 05:56.160] 那是一個格雷納的工商的表演賽\n",
            "[05:56.680 --> 05:57.960] 然後是打三場\n",
            "[05:58.220 --> 06:01.020] 我跟他完全不認識一面都沒見過一次都沒聊過天\n",
            "[06:01.280 --> 06:02.300] 然後他一直嗆我\n",
            "[06:03.080 --> 06:03.840] 啊我想說\n",
            "[06:04.100 --> 06:07.420] 因為本來就是嗆來嗆去嘛我想說他可能是做個效果\n",
            "[06:11.020 --> 06:11.780] 媽的真的\n",
            "[06:12.300 --> 06:13.060] 媽的真的是\n",
            "[06:13.820 --> 06:16.380] 幹你老師跟拓子幹到底都沒哭過\n",
            "[06:16.640 --> 06:17.660] 媽的因為這種事情哭\n",
            "[06:17.920 --> 06:18.440] 不是\n",
            "[06:18.440 --> 06:21.260] 他真的很沒有道理你知道嗎\n",
            "[06:22.280 --> 06:24.580] 不是你要5萬我也沒有意見\n",
            "[06:26.640 --> 06:29.440] 直接帳號你有03的LINE嘛你直接\n",
            "[06:29.700 --> 06:30.480] 匯嘛\n",
            "[06:32.000 --> 06:32.780] 不是這\n",
            "[06:35.080 --> 06:37.380] 不是真的不是我的問題你知道嗎真的不是我問題\n",
            "[06:37.900 --> 06:41.740] 不是你真的要錢的話你就匯03帳號說03他只能答應\n",
            "[06:42.240 --> 06:44.300] 實況說5萬我要那個錢\n",
            "[06:44.560 --> 06:46.600] 那我當然我一定會跟03拿\n",
            "[06:46.600 --> 06:52.740] 我一定會勸你說這個錢你不該拿那你拿了的話就怎麼樣子我一樣會勸他\n",
            "[06:55.820 --> 06:58.880] 沒有必要這樣消費別人一年然後最後還拿錢不是\n",
            "[06:59.140 --> 07:00.420] 誰會想到你那一年\n",
            "[07:00.680 --> 07:01.960] 算了算了算了隨便了\n",
            "[07:02.220 --> 07:02.980] 好啦無所謂了\n",
            "[07:04.000 --> 07:05.800] 可以再哭一次嗎哭你媽逼啊\n",
            "[07:06.060 --> 07:07.340] 好啦算了隨便了\n",
            "[07:09.900 --> 07:11.940] 工商腳本有叫你打賭嗎\n",
            "[07:13.740 --> 07:14.760] 隨便好不好\n",
            "[07:14.760 --> 07:16.300] 我自己犯賤\n",
            "[07:17.060 --> 07:18.080] 我自己犯賤\n",
            "[07:19.100 --> 07:20.380] 我他媽活該\n",
            "[07:25.760 --> 07:27.820] 我愛做效果我犯賤好不好\n",
            "[07:30.620 --> 07:32.160] 從今以後我絕不能做效果\n",
            "[07:33.180 --> 07:34.460] 要去死就去死吧\n",
            "[07:39.340 --> 07:41.380] 好啦我要休息了受不了\n",
            "[07:41.380 --> 07:45.220] 關掉關掉\n",
            "[07:45.220 --> 07:58.540] 他媽的真的是無安看齊一個人\n"
          ]
        }
      ]
    },
    {
      "cell_type": "code",
      "source": [],
      "metadata": {
        "id": "r2BZwu7nqo0C"
      },
      "execution_count": null,
      "outputs": []
    }
  ]
}